{
 "cells": [
  {
   "cell_type": "code",
   "execution_count": 377,
   "metadata": {},
   "outputs": [],
   "source": [
    "# Import packages\n",
    "import numpy as np\n",
    "import pandas as pd\n",
    "import matplotlib.pyplot as plt\n",
    "import keras\n",
    "from keras.models import Sequential \n",
    "from keras.layers import Dense,Activation,Dropout \n",
    "from keras.layers.normalization import BatchNormalization \n",
    "from keras.utils import np_utils\n",
    "from keras.optimizers import Adam\n",
    "from keras.optimizers import SGD\n",
    "from keras.optimizers import RMSprop\n",
    "from keras.utils import to_categorical\n",
    "from sklearn.utils import shuffle\n",
    "from sklearn.model_selection import StratifiedKFold"
   ]
  },
  {
   "cell_type": "code",
   "execution_count": 378,
   "metadata": {},
   "outputs": [],
   "source": [
    "def loadData(csv_file='ncsr_clean.csv', balance=True, random_seed=0):\n",
    "    # Read csv\n",
    "    df=pd.read_csv(csv_file).drop(['Unnamed: 0'], axis=1)\n",
    "    df=df.loc[:293]\n",
    "    \n",
    "    if balance:\n",
    "        df=df.append(df[df['Y']==0])\n",
    "        \n",
    "    # Get x and y values\n",
    "    np.random.seed(random_seed)\n",
    "    shuffled_idx=shuffle(range(len(df)))\n",
    "    shuffled_df=df.iloc[shuffled_idx]\n",
    "    y=shuffled_df['Y'].values\n",
    "    X=shuffled_df.drop(['Y'], axis=1)\n",
    "    X=(X-X.mean())/X.std()\n",
    "    X=X/X.max()\n",
    "    X=X.values\n",
    "    \n",
    "    return X,y\n",
    "    \n",
    "    \n",
    "    "
   ]
  },
  {
   "cell_type": "code",
   "execution_count": 379,
   "metadata": {},
   "outputs": [],
   "source": [
    "def split_70_30(X, y):\n",
    "    # Split\n",
    "    test_size=int(np.round(0.3*len(y)))\n",
    "    X_train=X[test_size:]\n",
    "    X_test=X[:test_size]\n",
    "    y_train=y[test_size:]\n",
    "    y_test=y[:test_size]\n",
    "\n",
    "    y_train=to_categorical(y_train, num_classes=2)\n",
    "    y_test=to_categorical(y_test, num_classes=2)\n",
    "    \n",
    "    return X_train, X_test, y_train, y_test"
   ]
  },
  {
   "cell_type": "code",
   "execution_count": 395,
   "metadata": {},
   "outputs": [],
   "source": [
    "def splitTest(X,y, test_size=0.1):\n",
    "    # Split\n",
    "    test_size=int(np.round(test_size*len(y)))\n",
    "    X_test=X[:test_size]\n",
    "    X=X[test_size:]\n",
    "    y_test=y[:test_size]\n",
    "    y=y[test_size:]    \n",
    "    return X, X_test, y, y_test"
   ]
  },
  {
   "cell_type": "code",
   "execution_count": 396,
   "metadata": {},
   "outputs": [],
   "source": [
    "def createModel():\n",
    "    # Make model\n",
    "    model=Sequential()\n",
    "    model.add(Dense(1000,input_dim=X_train.shape[1],activation='relu'))\n",
    "    model.add(Dense(500,activation='relu'))\n",
    "    model.add(Dense(200,activation='relu'))\n",
    "    model.add(Dropout(0.5))\n",
    "    model.add(Dense(2,activation='softmax'))\n",
    "    optimizer=Adam(lr=1e-5)\n",
    "    model.compile(loss='categorical_crossentropy',optimizer=optimizer,metrics=['binary_accuracy'])\n",
    "    \n",
    "    return model"
   ]
  },
  {
   "cell_type": "code",
   "execution_count": 494,
   "metadata": {},
   "outputs": [],
   "source": [
    "def trainModel(model, X_train, y_train, X_test, y_test):\n",
    "    # Train\n",
    "    history=model.fit(X_train,y_train,validation_data=(X_test,y_test),\\\n",
    "              batch_size=30,\\\n",
    "              epochs=300,\\\n",
    "              verbose=0)\n",
    "    return history"
   ]
  },
  {
   "cell_type": "code",
   "execution_count": 495,
   "metadata": {},
   "outputs": [
    {
     "name": "stdout",
     "output_type": "stream",
     "text": [
      "Fold 1 of 5\n",
      "Final training accuracy: 0.9963099600204243\n",
      "Final validation accuracy: 0.8695652122082917\n",
      "Fold 2 of 5\n",
      "Final training accuracy: 0.9926199200408485\n",
      "Final validation accuracy: 0.7971014354539954\n",
      "Fold 3 of 5\n",
      "Final training accuracy: 1.0\n",
      "Final validation accuracy: 0.8970588147640228\n",
      "Fold 4 of 5\n",
      "Final training accuracy: 1.0\n",
      "Final validation accuracy: 0.7313432729066308\n",
      "Fold 5 of 5\n",
      "Final training accuracy: 1.0\n",
      "Final validation accuracy: 0.746268658495661\n"
     ]
    }
   ],
   "source": [
    "X, y=loadData(balance=True)\n",
    "X, X_test, y, y_test=splitTest(X,y)\n",
    "n_folds=5\n",
    "skf=StratifiedKFold(n_splits=n_folds, shuffle=True)\n",
    "history_list=[]\n",
    "y_pred_list=[]\n",
    "label_list=[]\n",
    "i=0\n",
    "for train, valid in skf.split(X, y):\n",
    "    print(\"Fold\", i+1, 'of', n_folds)\n",
    "    model=None\n",
    "    model=createModel()\n",
    "    y_train=to_categorical(y[train], num_classes=2)\n",
    "    y_valid=to_categorical(y[valid], num_classes=2)\n",
    "    history=trainModel(model, X[train], y_train, X[valid], y_valid)\n",
    "    history_list.append(history)\n",
    "    \n",
    "    y_pred=np.argmax(model.predict(X[valid]), axis=1)\n",
    "    y_pred_list.append(y_pred)\n",
    "    label_list.append(y_valid[:,1])\n",
    "    \n",
    "    print('Final training accuracy:', history.history['binary_accuracy'][-1])\n",
    "    print('Final validation accuracy:', history.history['val_binary_accuracy'][-1])\n",
    "    i+=1"
   ]
  },
  {
   "cell_type": "code",
   "execution_count": 500,
   "metadata": {},
   "outputs": [
    {
     "name": "stdout",
     "output_type": "stream",
     "text": [
      "0.9977859760122545\n",
      "0.8082674787657205\n"
     ]
    }
   ],
   "source": [
    "print((0.9963099600204243\\\n",
    "       +0.9926199200408485\\\n",
    "       +1\\\n",
    "       +1\\\n",
    "       +1\n",
    "      )/5)\n",
    "print((0.8695652122082917\\\n",
    "       +0.7971014354539954\\\n",
    "       +0.8970588147640228\\\n",
    "       +0.7313432729066308\\\n",
    "       +0.746268658495661\n",
    "      )/5)"
   ]
  },
  {
   "cell_type": "code",
   "execution_count": 496,
   "metadata": {},
   "outputs": [
    {
     "data": {
      "text/plain": [
       "38"
      ]
     },
     "execution_count": 496,
     "metadata": {},
     "output_type": "execute_result"
    }
   ],
   "source": [
    "labels=y_valid[:, 0]\n",
    "(labels==0).sum()\n",
    "# (y_test==0).sum()"
   ]
  },
  {
   "cell_type": "code",
   "execution_count": 497,
   "metadata": {},
   "outputs": [
    {
     "name": "stdout",
     "output_type": "stream",
     "text": [
      "[1 1 1 0 0 1 1 0 1 0 0 0 0 0 1 0 0 0 1 1 1 1 1 0 1 0 1 1 1 0 0 1 1 1 1 0 1\n",
      " 1 1 1 0 1 1 1 1 0 0 1 0 1 1 0 1 0 1 1 0 1 1 1 0 0 1 1 0 0 0]\n",
      "Accuracy of the dataset 74.6268656716418\n"
     ]
    }
   ],
   "source": [
    "prediction=model.predict(X[test])\n",
    "length=len(prediction)\n",
    "y_label=np.argmax(y_valid, axis=1)\n",
    "predict_label=np.argmax(prediction, axis=1)\n",
    "print(predict_label)\n",
    "accuracy=np.sum(y_label==predict_label)/length * 100 \n",
    "print(\"Accuracy of the dataset\",accuracy )"
   ]
  },
  {
   "cell_type": "code",
   "execution_count": 526,
   "metadata": {},
   "outputs": [
    {
     "data": {
      "image/png": "[encoded data removed]",
      "text/plain": [
       "<matplotlib.figure.Figure at 0x7f39ec6fd198>"
      ]
     },
     "metadata": {},
     "output_type": "display_data"
    }
   ],
   "source": [
    "idx=4\n",
    "plt.plot(history_list[idx].history['binary_accuracy'])\n",
    "plt.plot(history_list[idx].history['val_binary_accuracy'])\n",
    "plt.show()"
   ]
  },
  {
   "cell_type": "code",
   "execution_count": 527,
   "metadata": {},
   "outputs": [
    {
     "data": {
      "image/png": "[encoded data removed]",
      "text/plain": [
       "<matplotlib.figure.Figure at 0x7f39ec66ee10>"
      ]
     },
     "metadata": {},
     "output_type": "display_data"
    }
   ],
   "source": [
    "plt.plot(history_list[idx].history['loss'])\n",
    "plt.plot(history_list[idx].history['val_loss'])\n",
    "plt.show()"
   ]
  },
  {
   "cell_type": "code",
   "execution_count": 531,
   "metadata": {},
   "outputs": [
    {
     "name": "stdout",
     "output_type": "stream",
     "text": [
      "[[20  9]\n",
      " [ 8 30]]\n"
     ]
    },
    {
     "data": {
      "text/plain": [
       "0.7792207792207793"
      ]
     },
     "execution_count": 531,
     "metadata": {},
     "output_type": "execute_result"
    }
   ],
   "source": [
    "from sklearn.metrics import confusion_matrix\n",
    "print(confusion_matrix(label_list[idx], y_pred_list[idx]))\n",
    "\n",
    "from sklearn.metrics import f1_score\n",
    "f1_score(label_list[idx], y_pred_list[idx])"
   ]
  },
  {
   "cell_type": "code",
   "execution_count": 529,
   "metadata": {},
   "outputs": [],
   "source": [
    "model.save('NN_Dana.h5')"
   ]
  },
  {
   "cell_type": "code",
   "execution_count": null,
   "metadata": {},
   "outputs": [],
   "source": []
  }
 ],
 "metadata": {
  "kernelspec": {
   "display_name": "Python 3",
   "language": "python",
   "name": "python3"
  },
  "language_info": {
   "codemirror_mode": {
    "name": "ipython",
    "version": 3
   },
   "file_extension": ".py",
   "mimetype": "text/x-python",
   "name": "python",
   "nbconvert_exporter": "python",
   "pygments_lexer": "ipython3",
   "version": "3.5.2"
  }
 },
 "nbformat": 4,
 "nbformat_minor": 2
}
