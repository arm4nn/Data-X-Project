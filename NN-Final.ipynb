{
 "cells": [
  {
   "cell_type": "code",
   "execution_count": 1,
   "metadata": {},
   "outputs": [
    {
     "name": "stderr",
     "output_type": "stream",
     "text": [
      "Using TensorFlow backend.\n"
     ]
    }
   ],
   "source": [
    "# Import packages\n",
    "import numpy as np\n",
    "import pandas as pd\n",
    "import matplotlib.pyplot as plt\n",
    "import keras\n",
    "from keras.models import Sequential \n",
    "from keras.layers import Dense,Activation,Dropout \n",
    "from keras.layers.normalization import BatchNormalization \n",
    "from keras.utils import np_utils\n",
    "from keras.optimizers import Adam\n",
    "from keras.optimizers import SGD\n",
    "from keras.optimizers import RMSprop\n",
    "from keras.utils import to_categorical\n",
    "from sklearn.utils import shuffle\n",
    "from sklearn.model_selection import StratifiedKFold"
   ]
  },
  {
   "cell_type": "code",
   "execution_count": 2,
   "metadata": {},
   "outputs": [],
   "source": [
    "def loadData(csv_file='ncsr_clean.csv', balance=True, random_seed=0):\n",
    "    # Read csv\n",
    "    df=pd.read_csv(csv_file).drop(['Unnamed: 0'], axis=1)\n",
    "    df=df.loc[:293]\n",
    "    \n",
    "    \n",
    "    np.random.seed(1)\n",
    "\n",
    "    if balance:\n",
    "        index0 = [index for index,value in enumerate(df['Y']) if value == 0]\n",
    "        while 2*(df['Y']==0).sum() < len(df)-1:\n",
    "            df=df.append(df.loc[index0[int(np.random.uniform()*len(index0))]])\n",
    "\n",
    "\n",
    "    np.random.seed(random_seed)\n",
    "    # Get x and y values\n",
    "    shuffled_idx=shuffle(range(len(df)))\n",
    "    shuffled_df=df.iloc[shuffled_idx]\n",
    "    y=shuffled_df['Y'].values\n",
    "    X=shuffled_df.drop(['Y'], axis=1)\n",
    "    X=(X-X.mean())/X.std()\n",
    "#     X=X/X.abs().max()\n",
    "    X=X.values\n",
    "    \n",
    "    return X,y\n",
    "    \n",
    "    \n",
    "    "
   ]
  },
  {
   "cell_type": "code",
   "execution_count": 3,
   "metadata": {},
   "outputs": [],
   "source": [
    "def split_70_30(X, y):\n",
    "    # Split\n",
    "    test_size=int(np.round(0.6*len(y)))\n",
    "    X_train=X[test_size:]\n",
    "    X_test=X[:test_size]\n",
    "    y_train=y[test_size:]\n",
    "    y_test=y[:test_size]\n",
    "\n",
    "    y_train=to_categorical(y_train, num_classes=2)\n",
    "    y_test=to_categorical(y_test, num_classes=2)\n",
    "    \n",
    "    return X_train, X_test, y_train, y_test"
   ]
  },
  {
   "cell_type": "code",
   "execution_count": 4,
   "metadata": {},
   "outputs": [],
   "source": [
    "def splitTest(X,y, test_size=0.1):\n",
    "    # Split\n",
    "    test_size=int(np.round(test_size*len(y)))\n",
    "    X_test=X[:test_size]\n",
    "    X=X[test_size:]\n",
    "    y_test=y[:test_size]\n",
    "    y=y[test_size:]    \n",
    "    return X, X_test, y, y_test"
   ]
  },
  {
   "cell_type": "code",
   "execution_count": 5,
   "metadata": {},
   "outputs": [],
   "source": [
    "def createModel():\n",
    "    # Make model\n",
    "    model=Sequential()\n",
    "    model.add(Dense(1000,input_dim=X.shape[1],activation='relu'))\n",
    "    model.add(Dense(500,activation='relu'))\n",
    "    model.add(Dense(200,activation='relu'))\n",
    "    model.add(Dropout(0.9))\n",
    "    model.add(Dense(2,activation='softmax'))\n",
    "    optimizer=Adam(lr=1e-5)\n",
    "    model.compile(loss='categorical_crossentropy',optimizer=optimizer,metrics=['binary_accuracy'])\n",
    "    \n",
    "    return model"
   ]
  },
  {
   "cell_type": "code",
   "execution_count": 6,
   "metadata": {},
   "outputs": [],
   "source": [
    "def trainModel(model, X_train, y_train, X_test, y_test):\n",
    "    # Train\n",
    "    history=model.fit(X_train,y_train,validation_data=(X_test,y_test),\\\n",
    "              batch_size=40,\\\n",
    "              epochs=400,\\\n",
    "              verbose=0)\n",
    "    return history"
   ]
  },
  {
   "cell_type": "code",
   "execution_count": 7,
   "metadata": {},
   "outputs": [
    {
     "name": "stdout",
     "output_type": "stream",
     "text": [
      "Fold 1 of 5\n",
      "Final training accuracy: 0.953642388843\n",
      "Final validation accuracy: 0.842105266295\n",
      "Fold 2 of 5\n",
      "Final training accuracy: 0.973509943248\n",
      "Final validation accuracy: 0.855263148483\n",
      "Fold 3 of 5\n",
      "Final training accuracy: 0.960264906978\n",
      "Final validation accuracy: 0.750000018823\n",
      "Fold 4 of 5\n",
      "Final training accuracy: 0.980198028457\n",
      "Final validation accuracy: 0.813333336512\n",
      "Fold 5 of 5\n",
      "Final training accuracy: 0.976897696064\n",
      "Final validation accuracy: 0.800000019868\n"
     ]
    }
   ],
   "source": [
    "X, y=loadData(balance=True)\n",
    "X, X_test, y, y_test=splitTest(X,y)\n",
    "n_folds=5\n",
    "skf=StratifiedKFold(n_splits=n_folds, shuffle=True)\n",
    "history_list=[]\n",
    "y_pred_list=[]\n",
    "label_list=[]\n",
    "i=0\n",
    "T = []\n",
    "V = []\n",
    "testPredY = [[],[],[],[],[]]\n",
    "\n",
    "for train, valid in skf.split(X, y):\n",
    "    print(\"Fold\", i+1, 'of', n_folds)\n",
    "    model=None\n",
    "    model=createModel()\n",
    "    y_train=to_categorical(y[train], num_classes=2)\n",
    "    y_valid=to_categorical(y[valid], num_classes=2)\n",
    "    history=trainModel(model, X[train], y_train, X[valid], y_valid)\n",
    "    history_list.append(history)\n",
    "    \n",
    "    y_pred=np.argmax(model.predict(X[valid]), axis=1)\n",
    "    y_pred_list.append(y_pred)\n",
    "    label_list.append(y_valid[:,1])\n",
    "    \n",
    "    T.append(history.history['binary_accuracy'][-1])\n",
    "    V.append(history.history['val_binary_accuracy'][-1])\n",
    "    print('Final training accuracy:', history.history['binary_accuracy'][-1])\n",
    "    print('Final validation accuracy:', history.history['val_binary_accuracy'][-1])\n",
    "    testPredY[i] = model.predict(X_test)\n",
    "    i+=1"
   ]
  },
  {
   "cell_type": "code",
   "execution_count": 8,
   "metadata": {},
   "outputs": [
    {
     "name": "stdout",
     "output_type": "stream",
     "text": [
      "T acc= 0.968902592718\n",
      "V acc= 0.812140357996\n"
     ]
    }
   ],
   "source": [
    "print('T acc=', np.array(T).mean())\n",
    "print('V acc=', np.array(V).mean())"
   ]
  },
  {
   "cell_type": "code",
   "execution_count": 15,
   "metadata": {},
   "outputs": [
    {
     "data": {
      "image/png": "[encoded data removed]",
      "text/plain": [
       "<matplotlib.figure.Figure at 0x1dddb3a1c88>"
      ]
     },
     "metadata": {},
     "output_type": "display_data"
    }
   ],
   "source": [
    "idx=1\n",
    "plt.plot(history_list[idx].history['binary_accuracy'])\n",
    "plt.plot(history_list[idx].history['val_binary_accuracy'])\n",
    "plt.show()"
   ]
  },
  {
   "cell_type": "code",
   "execution_count": 16,
   "metadata": {},
   "outputs": [
    {
     "data": {
      "image/png": "[encoded data removed]",
      "text/plain": [
       "<matplotlib.figure.Figure at 0x1dddd6dd748>"
      ]
     },
     "metadata": {},
     "output_type": "display_data"
    }
   ],
   "source": [
    "plt.plot(history_list[idx].history['loss'])\n",
    "plt.plot(history_list[idx].history['val_loss'])\n",
    "plt.show()"
   ]
  },
  {
   "cell_type": "code",
   "execution_count": 11,
   "metadata": {},
   "outputs": [],
   "source": [
    "# from sklearn.metrics import confusion_matrix\n",
    "# print(confusion_matrix(label_list[idx], y_pred_list[idx]))\n",
    "\n",
    "# from sklearn.metrics import f1_score\n",
    "# f1_score(label_list[idx], y_pred_list[idx])"
   ]
  },
  {
   "cell_type": "code",
   "execution_count": 12,
   "metadata": {},
   "outputs": [],
   "source": [
    "model.save('NN_Dana.h5')"
   ]
  },
  {
   "cell_type": "code",
   "execution_count": 13,
   "metadata": {},
   "outputs": [
    {
     "name": "stdout",
     "output_type": "stream",
     "text": [
      "[[21  4]\n",
      " [ 1 16]]\n",
      "F1 0.864864864865\n"
     ]
    },
    {
     "data": {
      "text/plain": [
       "0.88095238095238093"
      ]
     },
     "execution_count": 13,
     "metadata": {},
     "output_type": "execute_result"
    }
   ],
   "source": [
    "from sklearn.metrics import confusion_matrix\n",
    "from sklearn.metrics import f1_score\n",
    "from sklearn.metrics import accuracy_score\n",
    "\n",
    "qq = model.predict(X_test)\n",
    "yy = []\n",
    "for ii in range(len(model.predict(X_test))):\n",
    "    if model.predict(X_test)[ii][0] > model.predict(X_test)[ii][1]:\n",
    "        yy.append(0)\n",
    "    else:\n",
    "        yy.append(1)\n",
    "        \n",
    "print(confusion_matrix(y_test,yy))\n",
    "print('F1', f1_score(yy, y_test))\n",
    "accuracy_score(yy, y_test)"
   ]
  },
  {
   "cell_type": "code",
   "execution_count": 14,
   "metadata": {},
   "outputs": [
    {
     "name": "stdout",
     "output_type": "stream",
     "text": [
      "0.857142857143\n",
      "[[21  4]\n",
      " [ 2 15]]\n",
      "0.880952380952\n",
      "[[21  4]\n",
      " [ 1 16]]\n",
      "0.857142857143\n",
      "[[22  3]\n",
      " [ 3 14]]\n",
      "0.857142857143\n",
      "[[22  3]\n",
      " [ 3 14]]\n",
      "0.880952380952\n",
      "[[21  4]\n",
      " [ 1 16]]\n"
     ]
    }
   ],
   "source": [
    "from sklearn.metrics import accuracy_score\n",
    "for aaa in range(5):\n",
    "    qq = model.predict(X_test)\n",
    "    yy = []\n",
    "    for ii in range(len(testPredY[aaa])):\n",
    "        if testPredY[aaa][ii][0] > testPredY[aaa][ii][1]:\n",
    "            yy.append(0)\n",
    "        else:\n",
    "            yy.append(1)\n",
    "\n",
    "    print(accuracy_score(yy, y_test))\n",
    "    print(confusion_matrix(y_test,yy))"
   ]
  },
  {
   "cell_type": "code",
   "execution_count": null,
   "metadata": {},
   "outputs": [],
   "source": []
  },
  {
   "cell_type": "code",
   "execution_count": null,
   "metadata": {},
   "outputs": [],
   "source": []
  }
 ],
 "metadata": {
  "kernelspec": {
   "display_name": "Python 3",
   "language": "python",
   "name": "python3"
  },
  "language_info": {
   "codemirror_mode": {
    "name": "ipython",
    "version": 3
   },
   "file_extension": ".py",
   "mimetype": "text/x-python",
   "name": "python",
   "nbconvert_exporter": "python",
   "pygments_lexer": "ipython3",
   "version": "3.6.3"
  }
 },
 "nbformat": 4,
 "nbformat_minor": 2
}
